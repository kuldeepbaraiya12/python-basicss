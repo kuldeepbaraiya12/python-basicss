{
  "nbformat": 4,
  "nbformat_minor": 0,
  "metadata": {
    "colab": {
      "provenance": []
    },
    "kernelspec": {
      "name": "python3",
      "display_name": "Python 3"
    },
    "language_info": {
      "name": "python"
    }
  },
  "cells": [
    {
      "cell_type": "code",
      "execution_count": null,
      "metadata": {
        "id": "fFSzwpLkxl8F"
      },
      "outputs": [],
      "source": []
    },
    {
      "cell_type": "markdown",
      "source": [
        "# Python Basics\n"
      ],
      "metadata": {
        "id": "Oo-PkxK3xzrJ"
      }
    },
    {
      "cell_type": "markdown",
      "source": [
        "1. What is Python, and why is it popular?\n",
        "-> Python is a versatile, easy-to-learn programming language with simple syntax, making it ideal for beginners and professionals. It's popular due to its wide application in web development, data science, AI, and more, supported by a vast ecosystem of libraries, cross-platform compatibility, and a large community.\n",
        "2. What is an interpreter in Python?\n",
        "->An interpreter in Python is a program that executes Python code line by line, translating it into machine-readable instructions at runtime, which makes Python an interpreted language.\n",
        "3. What are pre-defined keywords in Python?\n",
        "->Pre-defined keywords in Python are reserved words that have specific meanings and purposes in the language. They cannot be used as variable names, function names, or identifiers. These keywords form the backbone of Python's syntax and are essential for writing Python programs.\n",
        "Pre-defined keywords in Python are reserved words with specific purposes, like if, else, for, True, and None. They cannot be used as variable names and are essential for Python's syntax.\n",
        "4. Can keywords be used as variable names?\n",
        "->No, keywords cannot be used as variable names in Python because they are reserved for specific purposes in the language's syntax. Using them as variable names will result in a syntax error.\n",
        "5. What is mutability in Python?\n",
        "->Mutability in Python refers to an object's ability to be changed after it is created.\n",
        "\n",
        "Mutable objects can be modified in place, meaning their content can be changed without changing their identity (memory address).\n",
        "Examples: list, dict, set.\n",
        "\n",
        "Immutable objects cannot be changed after creation. Any modification results in a new object being created.\n",
        "Examples: int, float, str, tuple.\n",
        "6. Why are lists mutable, but tuples are immutable?\n",
        "->Lists are mutable to allow dynamic updates, while tuples are immutable for fixed, consistent data storage and to enable their use as dictionary keys or set elements.\n",
        "7. What is the difference between “==” and “is” operators in Python?\n",
        "-> == (Equality Operator)\n",
        "Purpose:\n",
        "The == operator checks if the values stored in two objects are equal.\n",
        "It compares the contents of the objects, not their memory addresses.\n",
        "In other words, a == b evaluates to True if the data inside a and b is the same, regardless of whether they are stored in separate memory locations.\n",
        "\n",
        "->is (Identity Operator)\n",
        "Purpose:\n",
        "The is operator checks if two references point to the exact same object in memory.\n",
        "It compares the memory addresses of the objects, not their contents.\n",
        "In other words, a is b evaluates to True only if a and b reference the same location in memory (i.e., they are the same object).\n",
        "8. What are logical operators in Python?\n",
        "->Logical operators are used to combine boolean expressions and return a boolean value (True or False). In Python, there are three main logical operators: and, or, and not.\n",
        "\n",
        "- and (Logical AND)\n",
        "Returns True if both operands are True.\n",
        "Returns False if any operand is False.\n",
        "\n",
        "- or (Logical OR)\n",
        "Returns True if at least one operand is True.\n",
        "Returns False only if both operands are False.\n",
        "- not (Logical NOT)\n",
        "A unary operator that inverts the boolean value.\n",
        "Returns True if the operand is False, and False if the operand is True.\n",
        "\n",
        "9. What is type casting in Python?\n",
        "\n",
        "->Type casting in Python is the process of converting the data type of a value or object from one type to another. Python provides built-in functions to perform this conversion.\n",
        "\n",
        "Types of Type Casting\n",
        "There are two main types of type casting:\n",
        "\n",
        "\n",
        "Implicit Type Casting (Automatic Casting)\n",
        "Explicit Type Casting (Manual Casting)\n",
        "\n",
        "- Implicit Type Casting\n",
        "Python automatically converts smaller data types to larger data types to prevent data loss.\n",
        "For example, an int is automatically converted to a float when performing arithmetic operations with a float.\n",
        "\n",
        "- Explicit Type Casting\n",
        "In explicit type casting, the programmer manually converts a value from one type to another using type casting functions.\n",
        "Python provides several built-in functions to perform explicit type casting.\n",
        "\n",
        "10. What is the difference between implicit and explicit type casting?\n",
        "->\n",
        "Implicit Type Casting (Automatic Casting)\n",
        "\n",
        "\n",
        "Definition: Implicit type casting occurs automatically in Python. The interpreter automatically converts a smaller data type to a larger data type when it performs operations that require it.\n",
        "\n",
        "\n",
        "Purpose: It aims to prevent data loss by converting smaller types to larger types (e.g., an int to a float).\n",
        "When It Occurs: This happens during arithmetic operations, comparisons, or assignments.\n",
        "\n",
        "\n",
        "Example:\n",
        "When you add an int and a float, Python automatically converts the int to a float.\n",
        "5 (int) + 3.2 (float) results in 7.2 (a float).\n",
        "\n",
        "\n",
        " Explicit Type Casting (Manual Casting)\n",
        "\n",
        "\n",
        "Definition: Explicit type casting is when the programmer manually converts a value from one data type to another using built-in Python functions.\n",
        "Purpose: It provides control over data conversion and is used when a specific data type is needed.\n",
        "\n",
        "When It Occurs: When the programmer uses functions like int(), float(), str(), etc., to explicitly change data types.\n",
        "\n",
        "\n",
        "Risk: There is a potential risk of data loss or errors, especially when converting from float to int (e.g., truncating decimal values).\n",
        "\n",
        "\n",
        "Example:\n",
        "num = 4.7 → int(num) would result in 4 (decimal part is truncated).\n",
        "\n",
        "\n",
        "11. What is the purpose of conditional statements in Python?\n",
        "->Conditional statements in Python control the program's flow by executing specific code based on whether a condition is True or False. They enable decision-making, input validation, and dynamic responses to different situations.\n",
        "\n",
        "12. How does the elif statement work?\n",
        "->The elif statement in Python checks multiple conditions in order. It executes the code for the first condition that evaluates to True, skipping the rest. If none of the conditions are met, the else block is executed.\n",
        "\n",
        "13. What is the difference between for and while loops?\n",
        "->for Loop: Used when the number of iterations is known or when iterating over a sequence (e.g., list, range).\n",
        "Example: for i in range(5): print(i)\n",
        "\n",
        "while loop: Used when the number of iterations depends on a condition being true.\n",
        "Example: while i < 5: print(i); i += 1\n",
        "\n",
        "14. Describe a scenario where a while loop is more suitable than a for loop.\n",
        "-> A while loop is more suitable in scenarios where the number of iterations is not known in advance and depends on a dynamic condition.\n",
        "\n",
        "Example Scenario: User Authentication\n",
        "You want to repeatedly ask the user for a password until they enter the correct one.\n",
        "\n",
        "correct_password = \"secure123\"\n",
        "\n",
        "user_input = \"\"\n",
        "\n",
        "while user_input != correct_password:\n",
        "\n",
        "    user_input = input(\"Enter the password: \")\n",
        "\n",
        "print(\"Access granted!\")\n",
        "\n",
        "\n",
        "Why a while loop?\n",
        "\n",
        "The number of attempts isn't fixed.\n",
        "The loop continues until a specific condition (user_input == correct_password) is met.\n",
        "A for loop would not be practical since it’s designed for a predetermined number of iterations.\n",
        "\n",
        "\n"
      ],
      "metadata": {
        "id": "F8ZBMZQnyQYd"
      }
    },
    {
      "cell_type": "markdown",
      "source": [
        "1. Write a Python program to print \"Hello, World!\n"
      ],
      "metadata": {
        "id": "uSY5z8VpyvyQ"
      }
    },
    {
      "cell_type": "code",
      "source": [
        "    print(\"Hello, World!\")\n"
      ],
      "metadata": {
        "colab": {
          "base_uri": "https://localhost:8080/"
        },
        "id": "_kRBq94B3oXH",
        "outputId": "16f66b12-f97c-4077-8383-d7cb26b95abe"
      },
      "execution_count": null,
      "outputs": [
        {
          "output_type": "stream",
          "name": "stdout",
          "text": [
            "Hello, World!\n"
          ]
        }
      ]
    },
    {
      "cell_type": "markdown",
      "source": [],
      "metadata": {
        "id": "ol8i0oyv3x9b"
      }
    },
    {
      "cell_type": "markdown",
      "source": [
        "2. Write a Python program that displays your name and age"
      ],
      "metadata": {
        "id": "Bg-V-47Z56i1"
      }
    },
    {
      "cell_type": "code",
      "source": [
        "# Define name and age\n",
        "name = \"Kuldeep\"\n",
        "age = 25  # Replace with your actual age\n",
        "\n",
        "# Display the information\n",
        "print(\"Name:\", name)\n",
        "print(\"Age:\", age)\n"
      ],
      "metadata": {
        "colab": {
          "base_uri": "https://localhost:8080/"
        },
        "id": "o5V7iodN6Cku",
        "outputId": "7a71fa9a-3dc2-4abf-8850-a66d5db97721"
      },
      "execution_count": null,
      "outputs": [
        {
          "output_type": "stream",
          "name": "stdout",
          "text": [
            "Name: Kuldeep\n",
            "Age: 25\n"
          ]
        }
      ]
    },
    {
      "cell_type": "markdown",
      "source": [
        "3. Write code to print all the pre-defined keywords in Python using the keyword library"
      ],
      "metadata": {
        "id": "EGY8X9iZ6KwL"
      }
    },
    {
      "cell_type": "code",
      "source": [
        "import keyword\n",
        "\n",
        "# Display all Python keywords\n",
        "print(\"Python Keywords:\")\n",
        "for kw in keyword.kwlist:\n",
        "    print(kw)"
      ],
      "metadata": {
        "colab": {
          "base_uri": "https://localhost:8080/"
        },
        "id": "LnuO7X6q6cre",
        "outputId": "4a5bbd42-bed1-4298-9114-ce9f025a097d"
      },
      "execution_count": null,
      "outputs": [
        {
          "output_type": "stream",
          "name": "stdout",
          "text": [
            "Python Keywords:\n",
            "False\n",
            "None\n",
            "True\n",
            "and\n",
            "as\n",
            "assert\n",
            "async\n",
            "await\n",
            "break\n",
            "class\n",
            "continue\n",
            "def\n",
            "del\n",
            "elif\n",
            "else\n",
            "except\n",
            "finally\n",
            "for\n",
            "from\n",
            "global\n",
            "if\n",
            "import\n",
            "in\n",
            "is\n",
            "lambda\n",
            "nonlocal\n",
            "not\n",
            "or\n",
            "pass\n",
            "raise\n",
            "return\n",
            "try\n",
            "while\n",
            "with\n",
            "yield\n"
          ]
        }
      ]
    },
    {
      "cell_type": "markdown",
      "source": [
        "4. Write a program that checks if a given word is a Python keyword"
      ],
      "metadata": {
        "id": "3kqGqUPX6lnT"
      }
    },
    {
      "cell_type": "code",
      "source": [
        "import keyword\n",
        "\n",
        "# Input from the user\n",
        "word = input(\"Enter a word to check if it's a Python keyword: \")\n",
        "\n",
        "# Check if it's a keyword\n",
        "if keyword.iskeyword(word):\n",
        "    print(f\"'{word}' is a Python keyword.\")\n",
        "else:\n",
        "    print(f\"'{word}' is NOT a Python keyword.\")\n"
      ],
      "metadata": {
        "colab": {
          "base_uri": "https://localhost:8080/"
        },
        "id": "660ENqZl6uEU",
        "outputId": "35997854-1958-4a41-d503-bb37aa71a9c8"
      },
      "execution_count": null,
      "outputs": [
        {
          "output_type": "stream",
          "name": "stdout",
          "text": [
            "Enter a word to check if it's a Python keyword: while\n",
            "'while' is a Python keyword.\n"
          ]
        }
      ]
    },
    {
      "cell_type": "markdown",
      "source": [
        "5. Create a list and tuple in Python, and demonstrate how attempting to change an element works differently\n",
        "for each0"
      ],
      "metadata": {
        "id": "YpWNwg4o68LK"
      }
    },
    {
      "cell_type": "code",
      "source": [
        "# Creating a list and a tuple\n",
        "my_list = [1, 2, 3]\n",
        "my_tuple = (1, 2, 3)\n",
        "\n",
        "# Modifying an element in the list\n",
        "print(\"Original list:\", my_list)\n",
        "my_list[1] = 42  # Changing the second element\n",
        "print(\"Modified list:\", my_list)\n",
        "\n",
        "# Attempting to modify an element in the tuple\n",
        "print(\"Original tuple:\", my_tuple)\n",
        "try:\n",
        "    my_tuple[1] = 42  # This will raise an error\n",
        "except TypeError as e:\n",
        "    print(\"Error:\", e)\n"
      ],
      "metadata": {
        "colab": {
          "base_uri": "https://localhost:8080/"
        },
        "id": "DjcZ1UiC7BeN",
        "outputId": "5848b734-393d-4f65-87e7-4ef41e4491cf"
      },
      "execution_count": null,
      "outputs": [
        {
          "output_type": "stream",
          "name": "stdout",
          "text": [
            "Original list: [1, 2, 3]\n",
            "Modified list: [1, 42, 3]\n",
            "Original tuple: (1, 2, 3)\n",
            "Error: 'tuple' object does not support item assignment\n"
          ]
        }
      ]
    },
    {
      "cell_type": "markdown",
      "source": [
        "6. Write a function to demonstrate the behavior of mutable and immutable arguments0\n"
      ],
      "metadata": {
        "id": "C-Js1jHe7KhZ"
      }
    },
    {
      "cell_type": "code",
      "source": [
        "def demonstrate_mutable_immutable(mutable_arg, immutable_arg):\n",
        "    # Modify the mutable argument\n",
        "    mutable_arg.append(42)\n",
        "\n",
        "    # Attempt to modify the immutable argument\n",
        "    immutable_arg += 42  # This creates a new object for immutable_arg\n",
        "\n",
        "    # Print inside the function\n",
        "    print(\"Inside function (mutable):\", mutable_arg)\n",
        "    print(\"Inside function (immutable):\", immutable_arg)\n",
        "\n",
        "# Define mutable (list) and immutable (integer) arguments\n",
        "my_list = [1, 2, 3]  # Mutable\n",
        "my_int = 10          # Immutable\n",
        "\n",
        "# Call the function\n",
        "demonstrate_mutable_immutable(my_list, my_int)\n",
        "\n",
        "# Print after function call\n",
        "print(\"Outside function (mutable):\", my_list)  # Changes persist\n",
        "print(\"Outside function (immutable):\", my_int)  # Changes do NOT persist\n"
      ],
      "metadata": {
        "colab": {
          "base_uri": "https://localhost:8080/"
        },
        "id": "NBmXKC2Q7MNl",
        "outputId": "7315586c-606a-4f98-be7a-fdf48e547117"
      },
      "execution_count": null,
      "outputs": [
        {
          "output_type": "stream",
          "name": "stdout",
          "text": [
            "Inside function (mutable): [1, 2, 3, 42]\n",
            "Inside function (immutable): 52\n",
            "Outside function (mutable): [1, 2, 3, 42]\n",
            "Outside function (immutable): 10\n"
          ]
        }
      ]
    },
    {
      "cell_type": "markdown",
      "source": [
        "7. Write a function to demonstrate the behavior of mutable and immutable arguments"
      ],
      "metadata": {
        "id": "ZK17biMj7arI"
      }
    },
    {
      "cell_type": "code",
      "source": [
        "def demonstrate_behavior(mutable_obj, immutable_obj):\n",
        "    # Modify the mutable argument\n",
        "    mutable_obj.append(99)  # This changes the original object\n",
        "\n",
        "    # Attempt to modify the immutable argument\n",
        "    immutable_obj += 10  # This creates a new object, leaving the original unchanged\n",
        "\n",
        "    # Print inside the function\n",
        "    print(\"Inside function (mutable):\", mutable_obj)\n",
        "    print(\"Inside function (immutable):\", immutable_obj)\n",
        "\n",
        "# Create a mutable object (list) and an immutable object (integer)\n",
        "mutable_list = [1, 2, 3]  # Mutable\n",
        "immutable_int = 42        # Immutable\n",
        "\n",
        "# Call the function\n",
        "demonstrate_behavior(mutable_list, immutable_int)\n",
        "\n",
        "# Print after the function call\n",
        "print(\"Outside function (mutable):\", mutable_list)  # Reflects changes\n",
        "print(\"Outside function (immutable):\", immutable_int)  # Remains u\n"
      ],
      "metadata": {
        "colab": {
          "base_uri": "https://localhost:8080/"
        },
        "id": "AW_TQTpi7dwN",
        "outputId": "97440f46-66c4-46fa-971a-7a9cd83e842b"
      },
      "execution_count": null,
      "outputs": [
        {
          "output_type": "stream",
          "name": "stdout",
          "text": [
            "Inside function (mutable): [1, 2, 3, 99]\n",
            "Inside function (immutable): 52\n",
            "Outside function (mutable): [1, 2, 3, 99]\n",
            "Outside function (immutable): 42\n"
          ]
        }
      ]
    },
    {
      "cell_type": "markdown",
      "source": [
        "8. Write a program to demonstrate the use of logical operators"
      ],
      "metadata": {
        "id": "-Ov9Cx0Y7nvU"
      }
    },
    {
      "cell_type": "code",
      "source": [
        "# Program to demonstrate logical operators\n",
        "\n",
        "# Input values for demonstration\n",
        "age = int(input(\"Enter your age: \"))\n",
        "is_citizen = input(\"Are you a citizen? (yes/no): \").strip().lower() == \"yes\"\n",
        "\n",
        "# Logical operators in action\n",
        "\n",
        "# Example using 'and'\n",
        "if age >= 18 and is_citizen:\n",
        "    print(\"You are eligible to vote.\")\n",
        "else:\n",
        "    print(\"You are NOT eligible to vote.\")\n",
        "\n",
        "# Example using 'or'\n",
        "if age < 18 or not is_citizen:\n",
        "    print(\"You might need to wait or check eligibility rules.\")\n",
        "else:\n",
        "    print(\"You fulfill at least one condition for eligibility.\")\n",
        "\n",
        "# Example using 'not'\n",
        "if not is_citizen:\n",
        "    print(\"Only citizens can vote.\")\n",
        "else:\n",
        "    print(\"Citizenship confirmed.\")\n"
      ],
      "metadata": {
        "colab": {
          "base_uri": "https://localhost:8080/"
        },
        "id": "LMpgk8Lu79FB",
        "outputId": "a39c728a-f30f-4d95-d765-575a6deecd6e"
      },
      "execution_count": null,
      "outputs": [
        {
          "output_type": "stream",
          "name": "stdout",
          "text": [
            "Enter your age: 25\n",
            "Are you a citizen? (yes/no): yes\n",
            "You are eligible to vote.\n",
            "You fulfill at least one condition for eligibility.\n",
            "Citizenship confirmed.\n"
          ]
        }
      ]
    },
    {
      "cell_type": "markdown",
      "source": [
        "9. Write a Python program to convert user input from string to integer, float, and boolean types"
      ],
      "metadata": {
        "id": "OqC8O0eF8Hf6"
      }
    },
    {
      "cell_type": "code",
      "source": [
        "# Get user input as a string\n",
        "user_input = input(\"Enter a value: \")\n",
        "\n",
        "# Convert to integer\n",
        "try:\n",
        "    int_value = int(user_input)\n",
        "    print(f\"Integer: {int_value}\")\n",
        "except ValueError:\n",
        "    print(\"Cannot convert to Integer.\")\n",
        "\n",
        "# Convert to float\n",
        "try:\n",
        "    float_value = float(user_input)\n",
        "    print(f\"Float: {float_value}\")\n",
        "except ValueError:\n",
        "    print(\"Cannot convert to Float.\")\n",
        "\n",
        "# Convert to boolean\n",
        "bool_value = user_input.lower() in ['true', '1', 'yes', 'on']\n",
        "print(f\"Boolean: {bool_value}\")\n"
      ],
      "metadata": {
        "colab": {
          "base_uri": "https://localhost:8080/"
        },
        "id": "ntBOPmH08LNx",
        "outputId": "34ec42cb-d598-4c05-ccee-311293a57748"
      },
      "execution_count": null,
      "outputs": [
        {
          "output_type": "stream",
          "name": "stdout",
          "text": [
            "Enter a value: True\n",
            "Cannot convert to Integer.\n",
            "Cannot convert to Float.\n",
            "Boolean: True\n"
          ]
        }
      ]
    },
    {
      "cell_type": "markdown",
      "source": [
        "10. Write code to demonstrate type casting with list elements."
      ],
      "metadata": {
        "id": "c0QuI7G-8Xr8"
      }
    },
    {
      "cell_type": "code",
      "source": [
        "# Original list with mixed types as strings\n",
        "input_list = [\"10\", \"20.5\", \"True\", \"45\"]\n",
        "\n",
        "# Type casting demonstration\n",
        "output_list = []\n",
        "\n",
        "for item in input_list:\n",
        "    # Try to cast to int, float, or bool based on the content\n",
        "    try:\n",
        "        # Try integer conversion\n",
        "        output_list.append(int(item))\n",
        "        print(f\"Converted '{item}' to Integer.\")\n",
        "    except ValueError:\n",
        "        try:\n",
        "            # Try float conversion\n",
        "            output_list.append(float(item))\n",
        "            print(f\"Converted '{item}' to Float.\")\n",
        "        except ValueError:\n",
        "            # Convert to boolean\n",
        "            output_list.append(item.lower() in [\"true\", \"1\", \"yes\"])\n",
        "            print(f\"Converted '{item}' to Boolean.\")\n",
        "\n",
        "# Display the final result\n",
        "print(\"\\nOriginal List:\", input_list)\n",
        "print(\"Converted List:\", output_list)\n"
      ],
      "metadata": {
        "colab": {
          "base_uri": "https://localhost:8080/"
        },
        "id": "lG7H16LA8h0y",
        "outputId": "5815d8c1-06e5-4dce-c96b-0020cbef46dc"
      },
      "execution_count": null,
      "outputs": [
        {
          "output_type": "stream",
          "name": "stdout",
          "text": [
            "Converted '10' to Integer.\n",
            "Converted '20.5' to Float.\n",
            "Converted 'True' to Boolean.\n",
            "Converted '45' to Integer.\n",
            "\n",
            "Original List: ['10', '20.5', 'True', '45']\n",
            "Converted List: [10, 20.5, True, 45]\n"
          ]
        }
      ]
    },
    {
      "cell_type": "markdown",
      "source": [
        "11. Write a program that checks if a number is positive, negative, or zero"
      ],
      "metadata": {
        "id": "xgfrE0zA8nIR"
      }
    },
    {
      "cell_type": "code",
      "source": [
        "# Input a number from the user\n",
        "number = float(input(\"Enter a number: \"))\n",
        "\n",
        "# Check if the number is positive, negative, or zero\n",
        "if number > 0:\n",
        "    print(f\"The number {number} is positive.\")\n",
        "elif number < 0:\n",
        "    print(f\"The number {number} is negative.\")\n",
        "else:\n",
        "    print(\"The number is zero.\")\n"
      ],
      "metadata": {
        "colab": {
          "base_uri": "https://localhost:8080/"
        },
        "id": "8UYce4M-8pkB",
        "outputId": "51836b23-ab0d-4bcb-effc-3ff06f93a0fb"
      },
      "execution_count": null,
      "outputs": [
        {
          "output_type": "stream",
          "name": "stdout",
          "text": [
            "Enter a number: 12\n",
            "The number 12.0 is positive.\n"
          ]
        }
      ]
    },
    {
      "cell_type": "markdown",
      "source": [
        "12. Write a for loop to print numbers from 1 to 10"
      ],
      "metadata": {
        "id": "jvZ62KP986EX"
      }
    },
    {
      "cell_type": "code",
      "source": [
        "# Using a for loop to print numbers from 1 to 100\n",
        "for number in range(1, 11):\n",
        "    print(number)\n"
      ],
      "metadata": {
        "colab": {
          "base_uri": "https://localhost:8080/"
        },
        "id": "mQKhlgt287jN",
        "outputId": "87b51b60-01d3-427e-abd7-54ac95b53955"
      },
      "execution_count": null,
      "outputs": [
        {
          "output_type": "stream",
          "name": "stdout",
          "text": [
            "1\n",
            "2\n",
            "3\n",
            "4\n",
            "5\n",
            "6\n",
            "7\n",
            "8\n",
            "9\n",
            "10\n"
          ]
        }
      ]
    },
    {
      "cell_type": "markdown",
      "source": [
        "13. Write a Python program to find the sum of all even numbers between 1 and 50"
      ],
      "metadata": {
        "id": "52a3mk749BJp"
      }
    },
    {
      "cell_type": "code",
      "source": [
        "# Initialize the sum variable\n",
        "sum_of_evens = 0\n",
        "\n",
        "# Loop through numbers from 1 to 50\n",
        "for number in range(1, 51):\n",
        "    if number % 2 == 0:  # Check if the number is even\n",
        "        sum_of_evens += number  # Add the even number to the sum\n",
        "\n",
        "# Print the result\n",
        "print(\"Sum of all even numbers between 1 and 50:\", sum_of_evens)\n"
      ],
      "metadata": {
        "colab": {
          "base_uri": "https://localhost:8080/"
        },
        "id": "7gnBE-X19aNO",
        "outputId": "4a41ba98-70bf-40f9-a4f3-90c883708da6"
      },
      "execution_count": null,
      "outputs": [
        {
          "output_type": "stream",
          "name": "stdout",
          "text": [
            "Sum of all even numbers between 1 and 50: 650\n"
          ]
        }
      ]
    },
    {
      "cell_type": "markdown",
      "source": [
        "14. Write a program to reverse a string using a while loop"
      ],
      "metadata": {
        "id": "2xm628qj9hDI"
      }
    },
    {
      "cell_type": "code",
      "source": [
        "# Input string from the user\n",
        "input_string = input(\"Enter a string to reverse: \")\n",
        "\n",
        "# Initialize an empty string to store the reversed string\n",
        "reversed_string = \"\"\n",
        "\n",
        "# Set a variable to keep track of the position\n",
        "index = len(input_string) - 1\n",
        "\n",
        "# Use a while loop to reverse the string\n",
        "while index >= 0:\n",
        "    reversed_string += input_string[index]  # Add the character to the reversed string\n",
        "    index -= 1  # Move to the previous character\n",
        "\n",
        "# Print the reversed string\n",
        "print(\"Reversed string:\", reversed_string)\n"
      ],
      "metadata": {
        "colab": {
          "base_uri": "https://localhost:8080/"
        },
        "id": "XuafBjVK9j0h",
        "outputId": "f87081b9-5ed5-4813-91d0-3910ef83a3cd"
      },
      "execution_count": null,
      "outputs": [
        {
          "output_type": "stream",
          "name": "stdout",
          "text": [
            "Enter a string to reverse: kull\n",
            "Reversed string: lluk\n"
          ]
        }
      ]
    },
    {
      "cell_type": "markdown",
      "source": [
        "15. Write a Python program to calculate the factorial of a number provided by the user using a while loop."
      ],
      "metadata": {
        "id": "PVUhxUVc948A"
      }
    },
    {
      "cell_type": "code",
      "source": [
        "# Input a number from the user\n",
        "number = int(input(\"Enter a number to calculate its factorial: \"))\n",
        "\n",
        "# Initialize the factorial result as 1\n",
        "factorial = 1\n",
        "\n",
        "# Check if the number is negative\n",
        "if number < 0:\n",
        "    print(\"Factorial does not exist for negative numbers.\")\n",
        "else:\n",
        "    # Use a while loop to calculate the factorial\n",
        "    while number > 1:\n",
        "        factorial *= number\n",
        "        number -= 1\n",
        "\n",
        "    # Print the result\n",
        "    print(f\"The factorial is: {factorial}\")\n"
      ],
      "metadata": {
        "id": "0pUC30s--B9F",
        "outputId": "fcfd8b87-b210-4618-b86d-584ce039021d",
        "colab": {
          "base_uri": "https://localhost:8080/"
        }
      },
      "execution_count": null,
      "outputs": [
        {
          "output_type": "stream",
          "name": "stdout",
          "text": [
            "Enter a number to calculate its factorial: 2\n",
            "The factorial is: 2\n"
          ]
        }
      ]
    }
  ]
}